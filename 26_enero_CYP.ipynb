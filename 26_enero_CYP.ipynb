{
  "nbformat": 4,
  "nbformat_minor": 0,
  "metadata": {
    "colab": {
      "name": "26_enero_CYP.ipynb",
      "provenance": [],
      "authorship_tag": "ABX9TyOqDxQaXZFU0hasK6NleQVa",
      "include_colab_link": true
    },
    "kernelspec": {
      "name": "python3",
      "display_name": "Python 3"
    }
  },
  "cells": [
    {
      "cell_type": "markdown",
      "metadata": {
        "id": "view-in-github",
        "colab_type": "text"
      },
      "source": [
        "<a href=\"https://colab.research.google.com/github/Jesus-juasjuas/cyp_2021/blob/main/26_enero_CYP.ipynb\" target=\"_parent\"><img src=\"https://colab.research.google.com/assets/colab-badge.svg\" alt=\"Open In Colab\"/></a>"
      ]
    },
    {
      "cell_type": "markdown",
      "metadata": {
        "id": "kz18EuihtGiZ"
      },
      "source": [
        "#LISTAS DE LENGUAJE PYTHON 3\r\n",
        "1. Es una estructura de datos lineal de 0 o n elementos \r\n",
        "1.\"equivalente\" a los arreglos\r\n",
        "1. Puede ser de diferente tipo de dato[1,2,3] ,[True, 1, 2.34,\"hola\"]\r\n",
        "1. pueden ser anidados, lista de lista .[\"Melon\", [\"manzana roja\", \"manzana amarilla\"]\r\n",
        "1. su selector es de la forma: [int]\r\n",
        "1. Son mutables \r\n",
        "\r\n"
      ]
    },
    {
      "cell_type": "code",
      "metadata": {
        "colab": {
          "base_uri": "https://localhost:8080/"
        },
        "id": "I2k-I-_gu8cc",
        "outputId": "f4591e10-2d08-4ce3-a200-09b055b0d0fb"
      },
      "source": [
        "#ejemplos\r\n",
        "numeros = [4,2,45,72]\r\n",
        "print(numeros)\r\n",
        "print(numeros[2])\r\n",
        "\r\n",
        "#una lista de 0 elementos\r\n",
        "colores=[] #list()\r\n",
        "type(colores)\r\n",
        "dias=list()\r\n",
        "print(colores)\r\n",
        "print(dias)\r\n"
      ],
      "execution_count": null,
      "outputs": [
        {
          "output_type": "stream",
          "text": [
            "[4, 2, 45, 72]\n",
            "45\n"
          ],
          "name": "stdout"
        }
      ]
    },
    {
      "cell_type": "code",
      "metadata": {
        "colab": {
          "base_uri": "https://localhost:8080/"
        },
        "id": "6o8Ew3pawJw5",
        "outputId": "c204719a-7539-45e9-b3c7-4a79be8b5826"
      },
      "source": [
        "#Pueden ser de diferente tipo de datos\r\n",
        "mi_lista = [1,2,3, \"jose\", False,1.76,5543187391]\r\n",
        "print(mi_lista)\r\n",
        "print(mi_lista[5])\r\n",
        "print(mi_lista[6])\r\n",
        "print(mi_lista[3][3] )\r\n",
        "print(mi_lista[3][3::])\r\n",
        "print(mi_lista[3][-1::1])\r\n",
        "print(mi_lista[3][3])"
      ],
      "execution_count": null,
      "outputs": [
        {
          "output_type": "stream",
          "text": [
            "[1, 2, 3, 'jose', False, 1.76, 5543187391]\n",
            "1.76\n",
            "5543187391\n",
            "e\n",
            "e\n",
            "e\n"
          ],
          "name": "stdout"
        }
      ]
    },
    {
      "cell_type": "code",
      "metadata": {
        "colab": {
          "base_uri": "https://localhost:8080/"
        },
        "id": "ywuFrT3-0Tgx",
        "outputId": "cdf8b17f-1a09-40bc-862d-3d679cee231a"
      },
      "source": [
        "frutas =[\"melon\",\"sandia\",\"kiwi\",\"aguacate\",\"mango\",\"platano\"]\r\n",
        "print(frutas)\r\n",
        "frutas[0] = \"Melón\"\r\n",
        "print(frutas)\r\n",
        "#frutas[1] = \"S\"\r\n",
        "#print(frutas)\r\n",
        "#frutas[1][0] = \"S\"\r\n",
        "frutas[1] = frutas[1].capitalize()\r\n",
        "print(frutas)"
      ],
      "execution_count": null,
      "outputs": [
        {
          "output_type": "stream",
          "text": [
            "['melon', 'sandia', 'kiwi', 'aguacate', 'mango', 'platano']\n",
            "['Melon', 'sandia', 'kiwi', 'aguacate', 'mango', 'platano']\n",
            "['Melon', 'Sandia', 'kiwi', 'aguacate', 'mango', 'platano']\n"
          ],
          "name": "stdout"
        }
      ]
    },
    {
      "cell_type": "code",
      "metadata": {
        "id": "2NAHe4X62KI7"
      },
      "source": [
        "# Las listas son clases por lo tanto, tienen métodos.\r\n",
        "#ejemplo: Append, agrega un elemento al final\r\n",
        "frutas =[\"melon\",\"sandia\",\"kiwi\",\"aguacate\",\"mango\",\"platano\"]\r\n",
        "frutas.append(\"Fresa\")\r\n",
        "print(frutas)\r\n",
        "\r\n",
        "print(\"Ejemplo de copias\")\r\n",
        "otras_frutas = frutas.copy()\r\n",
        "print(frutas)\r\n",
        "print(otras_frutas)\r\n",
        "otras_frutas[0] = \"chico zapote\"\r\n",
        "print(otras_frutas)\r\n",
        "print(frutas)\r\n",
        "print(\"------------------\")\r\n",
        "\r\n",
        "print(\"Ejemplo de extend\")\r\n",
        "\r\n",
        "colores = [\"rojo\",\"verde\",\"azul\"]\r\n",
        "frutas.extend(colores)\r\n",
        "print(frutas)\r\n",
        "\r\n",
        "print(\"Ejemplo Insert\")\r\n",
        "print(f\"tamaño de la lista = { len(frutas)}\")\r\n",
        "frutas.insert(3,\"Limon\")\r\n",
        "print(f\"tamaño de la lista = { len(frutas)}\")\r\n",
        "print(frutas)\r\n",
        "\r\n",
        "print(\"ejemplo remove, eliminar kiwi\")\r\n",
        "frutas.remove(\"kiwi\")\r\n",
        "print(frutas)\r\n",
        "\r\n",
        "print(\"ejemplo de operador del\")\r\n",
        "del frutas[2] #operador de listas \r\n",
        "print(frutas)\r\n",
        "\r\n"
      ],
      "execution_count": null,
      "outputs": []
    },
    {
      "cell_type": "code",
      "metadata": {
        "id": "-OHDaZeY_Yt0",
        "outputId": "4b2f70a4-aaec-49f0-f0b5-11719a6e7eac",
        "colab": {
          "base_uri": "https://localhost:8080/"
        }
      },
      "source": [
        "cosas = [\"jose\",True,2,3,4,5,\"pedro\",1.23]\r\n",
        "indice = 0\r\n",
        "a_eliminar=[]\r\n",
        "for elemento in cosas:\r\n",
        "    if isinstance( elemento , int ) :\r\n",
        "        print(\"entero\",elemento) # cosas.remove(elemento)\r\n",
        "        a_eliminar.append(elemento)\r\n",
        "    indice += 1\r\n",
        "\r\n",
        "print(a_eliminar)\r\n",
        "for indice in a_eliminar:\r\n",
        "    print( indice)\r\n",
        "    cosas.remove(indice)\r\n",
        "print(cosas)"
      ],
      "execution_count": 12,
      "outputs": [
        {
          "output_type": "stream",
          "text": [
            "entero True\n",
            "entero 2\n",
            "entero 3\n",
            "entero 4\n",
            "entero 5\n",
            "[True, 2, 3, 4, 5]\n",
            "True\n",
            "2\n",
            "3\n",
            "4\n",
            "5\n",
            "['jose', 'pedro', 1.23]\n"
          ],
          "name": "stdout"
        }
      ]
    },
    {
      "cell_type": "code",
      "metadata": {
        "id": "9SOU5S6F2SBp"
      },
      "source": [
        "help(frutas)\r\n"
      ],
      "execution_count": null,
      "outputs": []
    },
    {
      "cell_type": "code",
      "metadata": {
        "id": "7-P1UehoFN0B",
        "outputId": "9c82bca3-77f2-4985-dacc-806b5731fe37",
        "colab": {
          "base_uri": "https://localhost:8080/"
        }
      },
      "source": [
        "#slicing sobre listas\r\n",
        "\r\n",
        "frutas=(\"melon\",\"sandia\",\"kiwi\",\"aguacate\",\"mango\",\"platano\")\r\n",
        "print(frutas)\r\n",
        "print(frutas[4:1:1])\r\n",
        "\r\n",
        "sistemas_operativos=(\"windows\",\"mac OS\", \"Linux\", \"Android\")\r\n",
        "autos=(\"Ford\",\"mazda\", \"Honda\")\r\n",
        "\r\n",
        "cosas=[sistemas_operativos , autos]\r\n",
        "print(cosas)\r\n",
        "print(cosas[1])\r\n",
        "print(cosas[0][2])\r\n",
        "print(cosas[0][3][2:5:1])\r\n",
        "print(cosas[1][1][-2:-5:-1])"
      ],
      "execution_count": 38,
      "outputs": [
        {
          "output_type": "stream",
          "text": [
            "('melon', 'sandia', 'kiwi', 'aguacate', 'mango', 'platano')\n",
            "()\n",
            "[('windows', 'mac OS', 'Linux', 'Android'), ('Ford', 'mazda', 'Honda')]\n",
            "('Ford', 'mazda', 'Honda')\n",
            "Linux\n",
            "dro\n",
            "dza\n"
          ],
          "name": "stdout"
        }
      ]
    }
  ]
}