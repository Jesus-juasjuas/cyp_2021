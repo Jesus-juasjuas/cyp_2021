{
  "nbformat": 4,
  "nbformat_minor": 0,
  "metadata": {
    "colab": {
      "name": "5enero_cyp.ipynb",
      "provenance": [],
      "authorship_tag": "ABX9TyPdV2bfxHPBQaqHKeF5H0Ra",
      "include_colab_link": true
    },
    "kernelspec": {
      "name": "python3",
      "display_name": "Python 3"
    }
  },
  "cells": [
    {
      "cell_type": "markdown",
      "metadata": {
        "id": "view-in-github",
        "colab_type": "text"
      },
      "source": [
        "<a href=\"https://colab.research.google.com/github/Jesus-juasjuas/cyp_2021/blob/main/5enero_cyp.ipynb\" target=\"_parent\"><img src=\"https://colab.research.google.com/assets/colab-badge.svg\" alt=\"Open In Colab\"/></a>"
      ]
    },
    {
      "cell_type": "code",
      "metadata": {
        "id": "MWVm6Q0AhhPQ",
        "colab": {
          "base_uri": "https://localhost:8080/"
        },
        "outputId": "e0f541ac-1735-4d92-bec1-96aa0d9ba957"
      },
      "source": [
        "sueldos = [0.0 for x in range(7)]\r\n",
        "print(sueldos)\r\n",
        "sueldos[0]=12.3\r\n",
        "sueldos[1]=32.3\r\n",
        "sueldos[2]=43.3\r\n",
        "sueldos[3]=11.3\r\n",
        "sueldos[4]=77.3\r\n",
        "sueldos[5]=88.3\r\n",
        "sueldos[6]=99.3\r\n",
        "print(sueldos)\r\n",
        "\r\n",
        "sueldos = [0.0 for x in range(7)]\r\n",
        "print(sueldos)\r\n",
        "i= 0\r\n",
        "nue_valor= 1.0\r\n",
        "for i in range(7):\r\n",
        "  sueldos[i]= nue_valor\r\n",
        "  nue_valor= nue_valor + 1\r\n",
        "  i= i + 1\r\n",
        "print(sueldos)\r\n",
        "\r\n",
        "for [i] in range(7):\r\n",
        "  print(f\"El trabajador\")"
      ],
      "execution_count": 5,
      "outputs": [
        {
          "output_type": "stream",
          "text": [
            "[0.0, 0.0, 0.0, 0.0, 0.0, 0.0, 0.0]\n",
            "[12.3, 32.3, 43.3, 11.3, 77.3, 88.3, 99.3]\n",
            "[0.0, 0.0, 0.0, 0.0, 0.0, 0.0, 0.0]\n",
            "[1.0, 2.0, 3.0, 4.0, 5.0, 6.0, 7.0]\n"
          ],
          "name": "stdout"
        }
      ]
    },
    {
      "cell_type": "code",
      "metadata": {
        "id": "ISAfBCjtotQy"
      },
      "source": [
        "#problema 4.1\r\n",
        "MAXIMO=7\r\n",
        "sueldos= [0.0 for x in range(MAXIMO)]\r\n",
        "suma=0.0\r\n",
        "promedio=0.0\r\n",
        "\r\n",
        "for i in range(MAXIMO):\r\n",
        "  sueldos[i]=float(input(\"dame el sueldo:\"))\r\n",
        "\r\n",
        "for i in range(MAXIMO):\r\n",
        "  print(f\"Trabajador {i+1}, gana {sueldos[i]}\")  \r\n",
        "\r\n",
        "for i in range(MAXIMO):\r\n",
        "  suma= suma+sueldos[i]\r\n",
        "\r\n",
        "promedio= suma / MAXIMO\r\n",
        "print(f\"el promedio desueldo es ${promedio}\")\r\n",
        "\r\n",
        "for i in range(7):\r\n",
        "  if sueldos[i]>promedio:\r\n",
        "    print(f\"El trabajador {i+1} tiene sueldo mayor al promedio\")"
      ],
      "execution_count": null,
      "outputs": []
    },
    {
      "cell_type": "code",
      "metadata": {
        "colab": {
          "base_uri": "https://localhost:8080/"
        },
        "id": "ZgVDDlUBtPKI",
        "outputId": "1a6a7972-2ac2-41b9-9237-f1c18b12fe21"
      },
      "source": [
        "Max = 5\r\n",
        "valor =  [0.0 for x in range(Max)]\r\n",
        "sum = 0.0\r\n",
        "prom = 0.0\r\n",
        "M = 0\r\n",
        "m = 100000000\r\n",
        "\r\n",
        "for i in range(Max):\r\n",
        "  valor[i] = int(input(\"Dame un valor entero positivo: \"))\r\n",
        "  if valor[i] > M:\r\n",
        "    M = valor[i]\r\n",
        "  elif valor[i] < m:\r\n",
        "    m = valor[i]\r\n",
        "\r\n",
        "for i in range(Max):\r\n",
        "  sum = sum + valor[i]\r\n",
        "\r\n",
        "prom = sum / Max\r\n",
        "\r\n",
        "print(f\"El numero mayor es {M}\")\r\n",
        "print(f\"El numero menor es {m}\")\r\n",
        "print(f\"El promedio es {prom}\")"
      ],
      "execution_count": 12,
      "outputs": [
        {
          "output_type": "stream",
          "text": [
            "Dame un valor entero positivo: 1\n",
            "Dame un valor entero positivo: 2\n",
            "Dame un valor entero positivo: 3\n",
            "Dame un valor entero positivo: 4\n",
            "Dame un valor entero positivo: 5\n",
            "El numero mayor es 5\n",
            "El numero menor es 100000000\n",
            "El promedio es 3.0\n"
          ],
          "name": "stdout"
        }
      ]
    },
    {
      "cell_type": "code",
      "metadata": {
        "colab": {
          "base_uri": "https://localhost:8080/"
        },
        "id": "5ZUg3NP2w-QT",
        "outputId": "85c4d060-7edf-450f-8e03-35568e6e9851"
      },
      "source": [
        "#problema 4.1\r\n",
        "\r\n",
        "N=int(input(\"Ingrese el numero de elementos del arreglo:\"))\r\n",
        "if 1 <= N and N <=500:\r\n",
        "  VEC=[0 for x in range(N)]\r\n",
        "  for I in range(N):\r\n",
        "     VEC[I]=int(input(\"ingresa el valor\" +str(I+1)+\":\"))\r\n",
        "  print(\"Lista de numeros sin repeticiones\")\r\n",
        "\r\n",
        "  for I in range(N):\r\n",
        "    print(VEC[I])\r\n",
        "    REPET=VEC[I]\r\n",
        "    while I<=N and REPET == VEC[I]:\r\n",
        "      #print(\"incrementa I\", I)\r\n",
        "      I=I + 1\r\n",
        "\r\n",
        "else:\r\n",
        "  print(\"El numero de elementos del arreglo es incorrecto\")"
      ],
      "execution_count": null,
      "outputs": [
        {
          "output_type": "stream",
          "text": [
            "Ingrese el numero de elementos del arreglo:15\n",
            "ingresa el valor1:45\n",
            "ingresa el valor2:55\n",
            "ingresa el valor3:45\n",
            "ingresa el valor4:55\n",
            "ingresa el valor5:45\n",
            "ingresa el valor6:777\n",
            "ingresa el valor7:777\n",
            "ingresa el valor8:777\n",
            "ingresa el valor9:284\n",
            "ingresa el valor10:578\n",
            "ingresa el valor11:588\n"
          ],
          "name": "stdout"
        }
      ]
    }
  ]
}