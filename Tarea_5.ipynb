{
  "nbformat": 4,
  "nbformat_minor": 0,
  "metadata": {
    "colab": {
      "name": "Tarea_5.ipynb",
      "provenance": [],
      "authorship_tag": "ABX9TyNhn3l77uIMrjkvUjIrfnJa",
      "include_colab_link": true
    },
    "kernelspec": {
      "name": "python3",
      "display_name": "Python 3"
    }
  },
  "cells": [
    {
      "cell_type": "markdown",
      "metadata": {
        "id": "view-in-github",
        "colab_type": "text"
      },
      "source": [
        "<a href=\"https://colab.research.google.com/github/Jesus-juasjuas/cyp_2021/blob/main/Tarea_5.ipynb\" target=\"_parent\"><img src=\"https://colab.research.google.com/assets/colab-badge.svg\" alt=\"Open In Colab\"/></a>"
      ]
    },
    {
      "cell_type": "code",
      "metadata": {
        "id": "wTcPMGUHpc3i"
      },
      "source": [
        "nom = 0\n",
        "nomina = 0\n",
        "\n",
        "for i in range(1,10):\n",
        "   nom = float(input(f\"ingrese el sueldo {i} \"))\n",
        "\n",
        "   nomina += nom\n",
        "print(f\"la nomina es {nomina}\")"
      ],
      "execution_count": null,
      "outputs": []
    },
    {
      "cell_type": "code",
      "metadata": {
        "id": "PdJTcgLBqgS0"
      },
      "source": [
        "#EJERCICIO 3.4\n",
        "\n",
        "SUMGAS = 0\n",
        "flag = 1.0\n",
        "while flag > 0.0:\n",
        "  aux = float(input(\"Gasto:\"))  \n",
        "  SUMGAS += (aux if aux >0.0 else 0.0)\n",
        "  flag = aux\n",
        "print(f\"El total gastado es:{SUMGAS}\")  "
      ],
      "execution_count": null,
      "outputs": []
    }
  ]
}