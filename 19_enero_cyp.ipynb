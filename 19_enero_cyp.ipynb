{
  "nbformat": 4,
  "nbformat_minor": 0,
  "metadata": {
    "colab": {
      "name": "19_enero_cyp.ipynb",
      "provenance": [],
      "authorship_tag": "ABX9TyN1OpN289Wf+fcTDCg5ZEdy",
      "include_colab_link": true
    },
    "kernelspec": {
      "name": "python3",
      "display_name": "Python 3"
    }
  },
  "cells": [
    {
      "cell_type": "markdown",
      "metadata": {
        "id": "view-in-github",
        "colab_type": "text"
      },
      "source": [
        "<a href=\"https://colab.research.google.com/github/Jesus-juasjuas/cyp_2021/blob/main/19_enero_cyp.ipynb\" target=\"_parent\"><img src=\"https://colab.research.google.com/assets/colab-badge.svg\" alt=\"Open In Colab\"/></a>"
      ]
    },
    {
      "cell_type": "markdown",
      "metadata": {
        "id": "EHoJ1lG1q1i3"
      },
      "source": [
        "#slicing (continuacion)\r\n",
        "[inicio:stop:incremento]\r\n",
        "\r\n",
        "notas:\r\n",
        "1. El stop no es incluido\r\n",
        "2. el incrememnto se puede modificar\r\n",
        "3. soporta indexado alternativo(negativos)"
      ]
    },
    {
      "cell_type": "code",
      "metadata": {
        "colab": {
          "base_uri": "https://localhost:8080/"
        },
        "id": "fPO3YpBgrXLk",
        "outputId": "a88f0a51-0357-4c62-8cfa-bee7da7e5ca2"
      },
      "source": [
        "frase=\"como hacer a la gente mas positiva?, muy facil, has que pierdan un electron!\"\r\n",
        "print(frase)\r\n",
        "#impirmir ace de la palabra hacer \r\n",
        "print(frase[6:9:1])\r\n",
        "\r\n",
        "#valores por defecto\r\n",
        "print(frase[ : : ])\r\n",
        "print(len(frase))\r\n",
        "#incremento\r\n",
        "print(frase[ : :2])#toda la frase\r\n",
        "print(frase[-1: :-1])#inverso -77\r\n",
        "\r\n",
        "nombre=\"Juan Jose\"\r\n",
        "print(nombre[1::-1])\r\n",
        "primer=nombre[:4:]\r\n",
        "print(primer)\r\n",
        "\r\n",
        "print(nombre[-9::1])"
      ],
      "execution_count": 8,
      "outputs": [
        {
          "output_type": "stream",
          "text": [
            "como hacer a la gente mas positiva?, muy facil, has que pierdan un electron!\n",
            "ace\n",
            "como hacer a la gente mas positiva?, muy facil, has que pierdan un electron!\n",
            "76\n",
            "cm ae  agnemspstv? u ai,hsqepednu lcrn\n",
            "!nortcele nu nadreip euq sah ,licaf yum ,?avitisop sam etneg al a recah omoc\n",
            "uJ\n",
            "Juan\n",
            "Juan Jose\n"
          ],
          "name": "stdout"
        }
      ]
    },
    {
      "cell_type": "markdown",
      "metadata": {
        "id": "C4oUFN19xV6p"
      },
      "source": [
        "#metodos de la string(str)\r\n",
        "En python todo es un objeto (P.O.O), esto significa que cada tipo de dato trae consigo metodos (funciones) incluidas.\r\n",
        "\r\n",
        "Para identificar los metodos disponibles se puede usar una de las funciones:\r\n",
        "1. dir(str) #resumen de metodos de la clase\r\n",
        "2. help(str) #informacion completa de los metodos de la clase"
      ]
    },
    {
      "cell_type": "code",
      "metadata": {
        "colab": {
          "base_uri": "https://localhost:8080/"
        },
        "id": "IVl1DYXpyU4I",
        "outputId": "f9166143-7319-4882-e370-f5e7ef98aef7"
      },
      "source": [
        "nombre=\"Juan Jose\"\r\n",
        "print(nombre)\r\n",
        "print(dir(str))\r\n",
        "\r\n",
        "metodos="
      ],
      "execution_count": 9,
      "outputs": [
        {
          "output_type": "stream",
          "text": [
            "Juan Jose\n",
            "['__add__', '__class__', '__contains__', '__delattr__', '__dir__', '__doc__', '__eq__', '__format__', '__ge__', '__getattribute__', '__getitem__', '__getnewargs__', '__gt__', '__hash__', '__init__', '__init_subclass__', '__iter__', '__le__', '__len__', '__lt__', '__mod__', '__mul__', '__ne__', '__new__', '__reduce__', '__reduce_ex__', '__repr__', '__rmod__', '__rmul__', '__setattr__', '__sizeof__', '__str__', '__subclasshook__', 'capitalize', 'casefold', 'center', 'count', 'encode', 'endswith', 'expandtabs', 'find', 'format', 'format_map', 'index', 'isalnum', 'isalpha', 'isdecimal', 'isdigit', 'isidentifier', 'islower', 'isnumeric', 'isprintable', 'isspace', 'istitle', 'isupper', 'join', 'ljust', 'lower', 'lstrip', 'maketrans', 'partition', 'replace', 'rfind', 'rindex', 'rjust', 'rpartition', 'rsplit', 'rstrip', 'split', 'splitlines', 'startswith', 'strip', 'swapcase', 'title', 'translate', 'upper', 'zfill']\n"
          ],
          "name": "stdout"
        }
      ]
    },
    {
      "cell_type": "markdown",
      "metadata": {
        "id": "H9DVfA-1yyeA"
      },
      "source": [
        "los metodos que inician con doble guion bajo, significa que sonmetodos privados (POO) , y no tendrias que usarlos como programador consumidor \r\n",
        "\r\n",
        "Los demas metodos son publicos y de uso libre "
      ]
    },
    {
      "cell_type": "code",
      "metadata": {
        "colab": {
          "base_uri": "https://localhost:8080/"
        },
        "id": "QDSRsbWAzf8L",
        "outputId": "e411b71c-f1a4-4366-8846-92c004dfe587"
      },
      "source": [
        "print(nombre)\r\n",
        "print(nombre.islower())\r\n",
        "nombre=\"PEDRO FERNANDEZ\"\r\n",
        "print(nombre.capitalize())\r\n",
        "print(nombre.endswith(\"DEZ\"))\r\n",
        "print(nombre.replace(\"E\",\"*\"))\r\n",
        "ind_e=nombre.find(\"E\")\r\n",
        "print(ind_e)\r\n",
        "\r\n",
        "print(nombre.replace(\"E\",\"@\",0))\r\n",
        "print(nombre.lower())\r\n",
        "nombre=\"jose\"\r\n",
        "print(nombre.upper())\r\n",
        "nombre=\"jose jose el principe de la cancion\"\r\n",
        "print(nombre.count(\"jose\"))"
      ],
      "execution_count": 19,
      "outputs": [
        {
          "output_type": "stream",
          "text": [
            "PEDRO FERNANDEZ\n",
            "False\n",
            "Pedro fernandez\n",
            "True\n",
            "P*DRO F*RNAND*Z\n",
            "1\n",
            "PEDRO FERNANDEZ\n",
            "pedro fernandez\n",
            "JOSE\n",
            "2\n"
          ],
          "name": "stdout"
        }
      ]
    },
    {
      "cell_type": "code",
      "metadata": {
        "id": "8ZcwyRG9z70z"
      },
      "source": [
        "print(help(str))"
      ],
      "execution_count": null,
      "outputs": []
    },
    {
      "cell_type": "code",
      "metadata": {
        "colab": {
          "base_uri": "https://localhost:8080/"
        },
        "id": "Bfm8Np2i5Xly",
        "outputId": "6cc15765-7282-4d67-9d03-9bb90032f00d"
      },
      "source": [
        "#Metodo para procesar Strings\r\n",
        "\r\n",
        "numeros= \"2,1,2,3,4,5,45      \"\r\n",
        "print(numeros)\r\n",
        "#como extraigo los numeros de la cadena \r\n",
        "#1.- eliminar los espacios al principio y al final con un strip()\r\n",
        "numeros= numeros.strip()\r\n",
        "print(numeros)\r\n",
        "#2separo por comas\r\n",
        "numeros=numeros.split(\",\")\r\n",
        "print(numeros)\r\n",
        "#paso 3, con un for e indices limpiar cadenas de la lista\r\n",
        "for indice in range(len(numeros)):\r\n",
        "  numeros[indice]=numeros[indice].strip()\r\n",
        "print(numeros)\r\n",
        "#paso 4, convertirlos a tipo entero\r\n",
        "for indice in range(len(numeros)):\r\n",
        "  numeros[indice]=int(numeros[indice])\r\n",
        "print(numeros)\r\n",
        "#paso 5, usar los numeros\r\n",
        "print(help(str.split(\",\")))"
      ],
      "execution_count": 25,
      "outputs": [
        {
          "output_type": "stream",
          "text": [
            "2,1,2,3,4,5,45      \n",
            "2,1,2,3,4,5,45\n",
            "['2', '1', '2', '3', '4', '5', '45']\n",
            "['2', '1', '2', '3', '4', '5', '45']\n",
            "[2, 1, 2, 3, 4, 5, 45]\n",
            "Help on list object:\n",
            "\n",
            "class list(object)\n",
            " |  list() -> new empty list\n",
            " |  list(iterable) -> new list initialized from iterable's items\n",
            " |  \n",
            " |  Methods defined here:\n",
            " |  \n",
            " |  __add__(self, value, /)\n",
            " |      Return self+value.\n",
            " |  \n",
            " |  __contains__(self, key, /)\n",
            " |      Return key in self.\n",
            " |  \n",
            " |  __delitem__(self, key, /)\n",
            " |      Delete self[key].\n",
            " |  \n",
            " |  __eq__(self, value, /)\n",
            " |      Return self==value.\n",
            " |  \n",
            " |  __ge__(self, value, /)\n",
            " |      Return self>=value.\n",
            " |  \n",
            " |  __getattribute__(self, name, /)\n",
            " |      Return getattr(self, name).\n",
            " |  \n",
            " |  __getitem__(...)\n",
            " |      x.__getitem__(y) <==> x[y]\n",
            " |  \n",
            " |  __gt__(self, value, /)\n",
            " |      Return self>value.\n",
            " |  \n",
            " |  __iadd__(self, value, /)\n",
            " |      Implement self+=value.\n",
            " |  \n",
            " |  __imul__(self, value, /)\n",
            " |      Implement self*=value.\n",
            " |  \n",
            " |  __init__(self, /, *args, **kwargs)\n",
            " |      Initialize self.  See help(type(self)) for accurate signature.\n",
            " |  \n",
            " |  __iter__(self, /)\n",
            " |      Implement iter(self).\n",
            " |  \n",
            " |  __le__(self, value, /)\n",
            " |      Return self<=value.\n",
            " |  \n",
            " |  __len__(self, /)\n",
            " |      Return len(self).\n",
            " |  \n",
            " |  __lt__(self, value, /)\n",
            " |      Return self<value.\n",
            " |  \n",
            " |  __mul__(self, value, /)\n",
            " |      Return self*value.\n",
            " |  \n",
            " |  __ne__(self, value, /)\n",
            " |      Return self!=value.\n",
            " |  \n",
            " |  __new__(*args, **kwargs) from builtins.type\n",
            " |      Create and return a new object.  See help(type) for accurate signature.\n",
            " |  \n",
            " |  __repr__(self, /)\n",
            " |      Return repr(self).\n",
            " |  \n",
            " |  __reversed__(...)\n",
            " |      L.__reversed__() -- return a reverse iterator over the list\n",
            " |  \n",
            " |  __rmul__(self, value, /)\n",
            " |      Return value*self.\n",
            " |  \n",
            " |  __setitem__(self, key, value, /)\n",
            " |      Set self[key] to value.\n",
            " |  \n",
            " |  __sizeof__(...)\n",
            " |      L.__sizeof__() -- size of L in memory, in bytes\n",
            " |  \n",
            " |  append(...)\n",
            " |      L.append(object) -> None -- append object to end\n",
            " |  \n",
            " |  clear(...)\n",
            " |      L.clear() -> None -- remove all items from L\n",
            " |  \n",
            " |  copy(...)\n",
            " |      L.copy() -> list -- a shallow copy of L\n",
            " |  \n",
            " |  count(...)\n",
            " |      L.count(value) -> integer -- return number of occurrences of value\n",
            " |  \n",
            " |  extend(...)\n",
            " |      L.extend(iterable) -> None -- extend list by appending elements from the iterable\n",
            " |  \n",
            " |  index(...)\n",
            " |      L.index(value, [start, [stop]]) -> integer -- return first index of value.\n",
            " |      Raises ValueError if the value is not present.\n",
            " |  \n",
            " |  insert(...)\n",
            " |      L.insert(index, object) -- insert object before index\n",
            " |  \n",
            " |  pop(...)\n",
            " |      L.pop([index]) -> item -- remove and return item at index (default last).\n",
            " |      Raises IndexError if list is empty or index is out of range.\n",
            " |  \n",
            " |  remove(...)\n",
            " |      L.remove(value) -> None -- remove first occurrence of value.\n",
            " |      Raises ValueError if the value is not present.\n",
            " |  \n",
            " |  reverse(...)\n",
            " |      L.reverse() -- reverse *IN PLACE*\n",
            " |  \n",
            " |  sort(...)\n",
            " |      L.sort(key=None, reverse=False) -> None -- stable sort *IN PLACE*\n",
            " |  \n",
            " |  ----------------------------------------------------------------------\n",
            " |  Data and other attributes defined here:\n",
            " |  \n",
            " |  __hash__ = None\n",
            "\n",
            "None\n"
          ],
          "name": "stdout"
        }
      ]
    }
  ]
}