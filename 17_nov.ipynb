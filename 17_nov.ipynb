{
  "nbformat": 4,
  "nbformat_minor": 0,
  "metadata": {
    "colab": {
      "name": "17_nov.ipynb",
      "provenance": [],
      "authorship_tag": "ABX9TyMZDVhHY6N3vZbK7WlNgHYs",
      "include_colab_link": true
    },
    "kernelspec": {
      "name": "python3",
      "display_name": "Python 3"
    }
  },
  "cells": [
    {
      "cell_type": "markdown",
      "metadata": {
        "id": "view-in-github",
        "colab_type": "text"
      },
      "source": [
        "<a href=\"https://colab.research.google.com/github/Jesus-juasjuas/cyp_2021/blob/main/17_nov.ipynb\" target=\"_parent\"><img src=\"https://colab.research.google.com/assets/colab-badge.svg\" alt=\"Open In Colab\"/></a>"
      ]
    },
    {
      "cell_type": "code",
      "metadata": {
        "id": "2RmyO2ojTREJ"
      },
      "source": [
        "edad = 15 \n",
        "estatura = 1.67\n",
        "a = 10\n",
        "b = 3\n",
        "\n",
        "c = 2 **b + 2 + 3 + 4\n",
        "\n",
        "print(c)\n",
        "\n",
        "e= estatura * 2.0\n",
        "print(e)\n",
        "\n",
        "f = a / b #en phyton se hace el calculo exacto\n",
        "print(f) #3,3333\n",
        "\n",
        "#tambien se puede forzar el calculo de enteros \n",
        "g = a // b\n",
        "print(\"g=\",g)\n",
        "\n",
        "h = a % b\n",
        "print(\"h=\",h)\n",
        "\n",
        "num = 10 \n",
        "print(\"es par num?\", (num & 2) == 0)\n",
        "\n"
      ],
      "execution_count": null,
      "outputs": []
    },
    {
      "cell_type": "code",
      "metadata": {
        "colab": {
          "base_uri": "https://localhost:8080/"
        },
        "id": "O2r_Nt_2Xe34",
        "outputId": "39556d56-be2c-4467-9238-152658b537ca"
      },
      "source": [
        "ecuacion = 9 + 7 * 8 - 36  / 5 #  9 + 56 - 7.2 -> 65 - 7.2\n",
        "print(ecuacion)\n",
        "\n",
        "ecuacion = 0\n",
        "ecuacion = (9 + 7) * 8 - 36 / 5  # 120.8\n",
        "print(ecuacion)\n",
        "\n",
        "ecuacion = 9 +7 * (8 - 36) / 5 #-30.20\n",
        "print(valor)"
      ],
      "execution_count": 1,
      "outputs": [
        {
          "output_type": "stream",
          "text": [
            "57.8\n"
          ],
          "name": "stdout"
        }
      ]
    },
    {
      "cell_type": "code",
      "metadata": {
        "id": "m-i6BV5tdwZm"
      },
      "source": [
        "# operadores logicos\n",
        "x= 5  \n",
        "y=4\n",
        "\n",
        "valor = (5 == 4) # Son iguales True \n",
        "print valor\n",
        "\n",
        "valor= (x!=y)# sondiferentes verdadero\n",
        "print(valor)\n",
        "\n",
        "valor= (x<y) #x es menor que y?? False\n",
        "print(valor)\n",
        "\n",
        "valor= (x>y) #x es mayor que y?? True\n",
        "print(valor)\n",
        "y=5\n",
        "valor= (x<-y)#x es menor o igual que y?? False\n",
        "print(valor)\n",
        "\n",
        "valor= (x>-y) #x es mayor o igual que y?? True\n",
        "print(valor)\n"
      ],
      "execution_count": null,
      "outputs": []
    },
    {
      "cell_type": "code",
      "metadata": {
        "id": "mSWrS_tefb0Z"
      },
      "source": [
        "costo_chetos = 7.0\n",
        "tienda_abierta = True\n",
        "capital_en_bolsa = 10\n",
        "\n",
        "se_compra = (costo_chetos < capital_bolsa) and (tienda_abierta == True )\n",
        "print(se_compra)\n",
        "\n"
      ],
      "execution_count": null,
      "outputs": []
    }
  ]
}