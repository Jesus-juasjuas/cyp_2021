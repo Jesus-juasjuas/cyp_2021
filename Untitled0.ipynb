{
  "nbformat": 4,
  "nbformat_minor": 0,
  "metadata": {
    "colab": {
      "name": "Untitled0.ipynb",
      "provenance": [],
      "authorship_tag": "ABX9TyP6aedtM8r1LezupOYYepZz",
      "include_colab_link": true
    },
    "kernelspec": {
      "name": "python3",
      "display_name": "Python 3"
    }
  },
  "cells": [
    {
      "cell_type": "markdown",
      "metadata": {
        "id": "view-in-github",
        "colab_type": "text"
      },
      "source": [
        "<a href=\"https://colab.research.google.com/github/Jesus-juasjuas/cyp_2021/blob/main/Untitled0.ipynb\" target=\"_parent\"><img src=\"https://colab.research.google.com/assets/colab-badge.svg\" alt=\"Open In Colab\"/></a>"
      ]
    },
    {
      "cell_type": "code",
      "metadata": {
        "id": "qolPkgR8cqPf",
        "outputId": "726e8505-937c-4e00-eba7-522e99954b68",
        "colab": {
          "base_uri": "https://localhost:8080/"
        }
      },
      "source": [
        "numero=int (input(\"dame un numero\"))\n",
        "if numero >0:\n",
        "  print(\"El numero es positivo\")\n",
        "\n",
        "  print(\"fin del programa\")"
      ],
      "execution_count": 3,
      "outputs": [
        {
          "output_type": "stream",
          "text": [
            "dame un numero7\n",
            "El numero es positivo\n",
            "fin del programa\n"
          ],
          "name": "stdout"
        }
      ]
    },
    {
      "cell_type": "code",
      "metadata": {
        "id": "vrGqh0rPfTxy"
      },
      "source": [
        "#ejemplo 2\n",
        "numero= int(input(\"digite un numero\"))\n",
        "if numero >0:\n",
        "  print(\"El numero es positivo\")\n",
        "elif numero==0:\n",
        "  print(\"El numero es 0\")\n",
        "\n",
        "else:#sino imprime es negativo\n",
        "    print(\"El numero es negativo\")"
      ],
      "execution_count": null,
      "outputs": []
    }
  ]
}