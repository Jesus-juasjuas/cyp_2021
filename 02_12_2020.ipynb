{
  "nbformat": 4,
  "nbformat_minor": 0,
  "metadata": {
    "colab": {
      "name": "02_12_2020.ipynb",
      "provenance": [],
      "authorship_tag": "ABX9TyPnU4e4yq8pm4IOMv/korLL",
      "include_colab_link": true
    },
    "kernelspec": {
      "name": "python3",
      "display_name": "Python 3"
    }
  },
  "cells": [
    {
      "cell_type": "markdown",
      "metadata": {
        "id": "view-in-github",
        "colab_type": "text"
      },
      "source": [
        "<a href=\"https://colab.research.google.com/github/Jesus-juasjuas/cyp_2021/blob/main/02_12_2020.ipynb\" target=\"_parent\"><img src=\"https://colab.research.google.com/assets/colab-badge.svg\" alt=\"Open In Colab\"/></a>"
      ]
    },
    {
      "cell_type": "code",
      "metadata": {
        "colab": {
          "base_uri": "https://localhost:8080/"
        },
        "id": "Esl83YfKLXIb",
        "outputId": "d850a85e-b934-430d-b6e8-c77ca40bde0f"
      },
      "source": [
        "#Ejercicio 2.4\n",
        "\n",
        "nombre=str(input(\"Ingrese su nombre:\\n\"))\n",
        "sueldo=float (input(\"Ingrese su sueldo:\\n $ \"))\n",
        "\n",
        "if (sueldo<1000):\n",
        "  nsue=sueldo*1.15\n",
        "  print(\"Recibira un aumento del 15% en su sueldo\")\n",
        "else:\n",
        "  nsue=sueldo*1.12\n",
        "  print(\"Recibira un aumento del 12% en su sueldo\")\n",
        "\n",
        "print(nombre,\"Su paga total es de $\",nsue)"
      ],
      "execution_count": 2,
      "outputs": [
        {
          "output_type": "stream",
          "text": [
            "Ingrese su nombre:\n",
            "5\n",
            "Ingrese su sueldo:\n",
            " $ 900\n",
            "Recibira un aumento del 15% en su sueldo\n",
            "5 Su paga total es de $ 1035.0\n"
          ],
          "name": "stdout"
        }
      ]
    },
    {
      "cell_type": "code",
      "metadata": {
        "id": "Kdmx9b4yLsyR"
      },
      "source": [
        "#Ejercio 2.8\n",
        "\n",
        "nombre= str (input(\"Ingrese su nombre: \\n\"))\n",
        "cate= int (input(\"Ingrese su categoria de trabajador: \\n\"))\n",
        "sue=float (input(\"Ingrese el valor de su sueldo: \\n\"))\n",
        "\n",
        "if (cate==1):\n",
        "  print(\"Se le hara un amuento de 15% en su sueldo\")\n",
        "  nsue=sue*1.15\n",
        "\n",
        "elif (cate==2):\n",
        "  print(\"Se le hara un amuento de 10% en su sueldo\")\n",
        "  nsue=sue*1.10\n",
        "\n",
        "elif (cate==3):\n",
        "  print(\"Se le hara un amuento de 8% en su sueldo\")\n",
        "  nsue=sue*1.08\n",
        "\n",
        "elif (cate==4):\n",
        "  print(\"Se le hara un amuento de 7% en su sueldo\")\n",
        "  nsue=sue*1.07\n",
        "\n",
        "print(nombre,\"su nuevo sueldo es de $\",nsue)"
      ],
      "execution_count": null,
      "outputs": []
    },
    {
      "cell_type": "code",
      "metadata": {
        "id": "3zTMypG8LZkF"
      },
      "source": [
        ""
      ],
      "execution_count": null,
      "outputs": []
    }
  ]
}