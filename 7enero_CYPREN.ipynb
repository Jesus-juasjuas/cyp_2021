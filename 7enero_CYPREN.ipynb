{
  "nbformat": 4,
  "nbformat_minor": 0,
  "metadata": {
    "colab": {
      "name": "7enero_CYPREN.ipynb",
      "provenance": [],
      "authorship_tag": "ABX9TyOk4rDy9s73+jQSODtF/fq/",
      "include_colab_link": true
    },
    "kernelspec": {
      "name": "python3",
      "display_name": "Python 3"
    }
  },
  "cells": [
    {
      "cell_type": "markdown",
      "metadata": {
        "id": "view-in-github",
        "colab_type": "text"
      },
      "source": [
        "<a href=\"https://colab.research.google.com/github/Jesus-juasjuas/cyp_2021/blob/main/7enero_CYPREN.ipynb\" target=\"_parent\"><img src=\"https://colab.research.google.com/assets/colab-badge.svg\" alt=\"Open In Colab\"/></a>"
      ]
    },
    {
      "cell_type": "code",
      "metadata": {
        "id": "m_6jTOcNBOhe"
      },
      "source": [
        "REN=3\r\n",
        "COL=5\r\n",
        "VEC = [[0 for x in range(COL)] for x in range(REN)]\r\n",
        "print(VEC)\r\n",
        "VEC[1][2]=15\r\n",
        "print(VEC)\r\n",
        "\r\n",
        "print(\"Automatizar el recorrido del arreglo\")\r\n",
        "for i in range(REN):\r\n",
        "  for j in range(COL):\r\n",
        "    print(f\"{i},{j} = {VEC[i][j]}\")"
      ],
      "execution_count": null,
      "outputs": []
    },
    {
      "cell_type": "code",
      "metadata": {
        "colab": {
          "base_uri": "https://localhost:8080/"
        },
        "id": "my4fEoRuFPCA",
        "outputId": "19fd091d-d958-42d3-e5a4-1830631efbf3"
      },
      "source": [
        "estados = 2\r\n",
        "\r\n",
        "lluvias_men_est= [ [0 for x in range(12)] for x in range(estados)]\r\n",
        "print(lluvias_men_est)\r\n",
        "for i in range(estados):\r\n",
        "  for j in range(12):\r\n",
        "    aux = int(input(\"Dame siguiente valor: \"))\r\n",
        "    lluvias_men_est[i][j] = aux\r\n",
        "print(lluvias_men_est)\r\n",
        "\r\n",
        "print(\"PROMEDIO DE LLUVIAS EN LOS ESTADOS\")\r\n",
        "SUMA = 0\r\n",
        "PROM = 0\r\n",
        "for i in range(estados):\r\n",
        "  for j in range(12):\r\n",
        "    SUMA = SUMA + lluvias_men_est[i][j]\r\n",
        "  print(f\"El promedio de lluvias {i + 1} es {SUMA 1/2}\")"
      ],
      "execution_count": 2,
      "outputs": [
        {
          "output_type": "stream",
          "text": [
            "[[0, 0, 0, 0, 0, 0, 0, 0, 0, 0, 0, 0], [0, 0, 0, 0, 0, 0, 0, 0, 0, 0, 0, 0]]\n",
            "Dame siguiente valor: 50\n",
            "Dame siguiente valor: 50\n",
            "Dame siguiente valor: 21\n",
            "Dame siguiente valor: 54\n",
            "Dame siguiente valor: 54\n",
            "Dame siguiente valor: 78\n",
            "Dame siguiente valor: 12\n",
            "Dame siguiente valor: 34\n",
            "Dame siguiente valor: 65\n",
            "Dame siguiente valor: 30\n",
            "Dame siguiente valor: 10\n",
            "Dame siguiente valor: 7\n",
            "Dame siguiente valor: 8\n",
            "Dame siguiente valor: 9\n",
            "Dame siguiente valor: 10\n",
            "Dame siguiente valor: 11\n",
            "Dame siguiente valor: 2\n",
            "Dame siguiente valor: 3\n",
            "Dame siguiente valor: 4\n",
            "Dame siguiente valor: 5\n",
            "Dame siguiente valor: 6\n",
            "Dame siguiente valor: 15\n",
            "Dame siguiente valor: 16\n",
            "Dame siguiente valor: 17\n",
            "[[50, 50, 21, 54, 54, 78, 12, 34, 65, 30, 10, 7], [8, 9, 10, 11, 2, 3, 4, 5, 6, 15, 16, 17]]\n",
            "PROMEDIO DE LLUVIAS EN LOS ESTADOS\n",
            "El promedio de lluvias 1 es 38.75\n",
            "El promedio de lluvias 2 es 47.583333333333336\n"
          ],
          "name": "stdout"
        }
      ]
    }
  ]
}