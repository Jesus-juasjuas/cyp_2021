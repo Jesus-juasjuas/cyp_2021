{
  "nbformat": 4,
  "nbformat_minor": 0,
  "metadata": {
    "colab": {
      "name": "1_dic_2020.ipynb",
      "provenance": [],
      "authorship_tag": "ABX9TyMP1HI32Ssg5jkcWgEFmZpN",
      "include_colab_link": true
    },
    "kernelspec": {
      "name": "python3",
      "display_name": "Python 3"
    }
  },
  "cells": [
    {
      "cell_type": "markdown",
      "metadata": {
        "id": "view-in-github",
        "colab_type": "text"
      },
      "source": [
        "<a href=\"https://colab.research.google.com/github/Jesus-juasjuas/cyp_2021/blob/main/1_dic_2020.ipynb\" target=\"_parent\"><img src=\"https://colab.research.google.com/assets/colab-badge.svg\" alt=\"Open In Colab\"/></a>"
      ]
    },
    {
      "cell_type": "code",
      "metadata": {
        "colab": {
          "base_uri": "https://localhost:8080/"
        },
        "id": "hrXJlUVjTCEJ",
        "outputId": "60b4572d-8871-4534-ee1c-2246ea6c9656"
      },
      "source": [
        "# ejemplo 1\n",
        "primerNumero = int(input(\"Primer numero: \"))\n",
        "segundoNumero = int(input(\"Segundo numero: \"))\n",
        "tercerNumero = int(input(\"Tercer numero: \"))\n",
        "\n",
        "if primerNumero == segundoNumero and primerNumero == tercerNumero :\n",
        "    print(\"Todos los numeros son iguales\")\n",
        "elif primerNumero > segundoNumero :\n",
        "    if primerNumero > tercerNumero:\n",
        "        print(f\"El numero {primerNumero} es el mayor.\")\n",
        "    else :\n",
        "        print(f\"El numero {tercerNumero} es el mayor.\")\n",
        "else :\n",
        "    if segundoNumero > tercerNumero:\n",
        "        prin"
      ],
      "execution_count": 1,
      "outputs": [
        {
          "output_type": "stream",
          "text": [
            "Primer numero: 9\n",
            "Segundo numero: 8\n",
            "Tercer numero: 7\n",
            "El numero 9 es el mayor.\n"
          ],
          "name": "stdout"
        }
      ]
    },
    {
      "cell_type": "code",
      "metadata": {
        "id": "ujouliUGVy7b"
      },
      "source": [
        "# ejemplo 2\n",
        "print(\"Ingrese el nombre del trabajador\")\n",
        "nombre=str (input())\n",
        "print(\"¿Cuantas horas trabajo esta semana?\",nombre,\":\" )\n",
        "horas=int (input())\n",
        "print(\"¿Cuanto se le paga por hora?:\")\n",
        "sueldoH= float (input())\n",
        "\n",
        "#Evaluar su sueldo\n",
        "\n",
        "if (horas<=40):\n",
        "  pago = horas*sueldoH\n",
        "  print(nombre,\"Su pago total es de $\",pago)\n",
        "\n",
        "else:\n",
        "  extras = horas - 40\n",
        "  pago = 40*sueldoH\n",
        "  pagoFinal = pago + ((extras * sueldoH)*2)\n",
        "  print(nombre,\"Su pago total es de $\",pagoFinal"
      ],
      "execution_count": null,
      "outputs": []
    },
    {
      "cell_type": "code",
      "metadata": {
        "colab": {
          "base_uri": "https://localhost:8080/"
        },
        "id": "iwWNA6wPkaFM",
        "outputId": "ac98a61c-ea7b-4125-c92c-b09c91074c0e"
      },
      "source": [
        "#Ejemplo 3\n",
        "#Calcular el salario semanal de x trabajador\n",
        "#El salario semanal se calcula en base a las horas semanales trabajadas\n",
        "#El pago por hora es variable (se pide por teclado)\n",
        "#Si las horas trabajadas superan las 40 horas, el pago por hora extra es:\n",
        "#Doble en el rango de 41horas a 50horas\n",
        "#Triple en el rango de 51horas a 60 horas\n",
        "#Incentivo de $2000 si rebasa las 60 horas.\n",
        "\n",
        "print(\"Ingrese el nombre del trabjador\")\n",
        "nombre=input()\n",
        "print(\"Cuantas horas trabajo esta semana\", nombre, \":\")\n",
        "horas=int(input())\n",
        "print(\"Cuanto se paga por hora?:\")\n",
        "sueldoH=float(input())\n",
        "\n",
        "#Evaluar el sueldo\n",
        "\n",
        "if(horas<=40):\n",
        "  pago=horas*sueldoH\n",
        "  print(\"El sueldo de\",nombre,\"es $\", pago)\n",
        "\n",
        "elif(horas>40 and horas <=50):\n",
        "  extrasDobles=horas-40\n",
        "  print(\"Horas extras:\",extrasDobles)\n",
        "  pago=40*sueldoH\n",
        "  print(\"Sueldo $\", pago)\n",
        "  pagoDoble=extrasDobles*sueldoH*2\n",
        "  print(\"pago de horas dobles $\", pagoDoble)\n",
        "  pagoFinal=pago+pagoDoble\n",
        "  print(\"El sueldo de\",nombre,\"es $\", pagoFinal)\n",
        "\n",
        "elif ((horas>=51 and horas <=60 )):\n",
        "    extrasTriples=horas-50\n",
        "    print(\"horas extra dobles:10\")\n",
        "    print(\"horas extra triples:\", extrasTriples)\n",
        "    pago=40*sueldoH\n",
        "    print(\"sueldo base: $\", pago)\n",
        "    pagoDoble=10*sueldoH*2\n",
        "    print(\"pago de horas extras dobles:\", pagoDoble)\n",
        "    pagoTriple=extrasTriples*sueldoH*3\n",
        "    print(\"pago de horas extra triples:\" ,pagoTriple)\n",
        "    pagoFinal=pago+pagoDoble+pagoTriple\n",
        "    print(\"El sueldo de\",nombre,\"es $\", pagoFinal)\n",
        "\n",
        "else:\n",
        "  extrasTriples=10\n",
        "  print(\"Horas extra dobles 10\")\n",
        "  print(\"horas extra triples 10\")\n",
        "  pago= 40*sueldoH\n",
        "  print(\"Sueldo Base:$\",pago)\n",
        "  pagoDoble=10*sueldoH*2\n",
        "  print(\"Pago de horas extra Dobles:\", pagoDoble)\n",
        "  pagoTriple=extrasTriples * sueldoH*3\n",
        "  print(\"pago de horas extra triples:\", pagoTriple)\n",
        "  print(\"Incentivo por trabajar más de 60 horas:$ $2000\")\n",
        "  pagoFinal= pago+pagoDoble+pagoTriple+2000\n",
        "  print(\"El sueldo Final de : \" ,nombre , \"Es $\", pagoFinal)    "
      ],
      "execution_count": 7,
      "outputs": [
        {
          "output_type": "stream",
          "text": [
            "Ingrese el nombre del trabjador\n",
            "JJ\n",
            "Cuantas horas trabajo esta semana JJ :\n",
            "65\n",
            "Cuanto se paga por hora?:\n",
            "200\n",
            "Horas extra dobles 10\n",
            "horas extra triples 10\n",
            "Sueldo Base:$ 8000.0\n",
            "Pago de horas extra Dobles: 4000.0\n",
            "pago de horas extra triples: 6000.0\n",
            "Incentivo por trabajar más de 60 horas:$ $2000\n",
            "El sueldo Final de :  JJ Es $ 20000.0\n"
          ],
          "name": "stdout"
        }
      ]
    },
    {
      "cell_type": "code",
      "metadata": {
        "colab": {
          "base_uri": "https://localhost:8080/"
        },
        "id": "t84Yqr52o9aW",
        "outputId": "e77211b6-cbc3-4821-9d37-b5de7b1593e9"
      },
      "source": [
        "#ESTRUCTURA FOR\n",
        "#Ejemplo 1\n",
        "\n",
        "for estaciones_año in {\"primavera\", \"otoño\", \"verano\", \"invierno\"}: #in es una palabra reservada, elemanto a recorrer\n",
        "  print(estaciones_año)\n",
        "\n",
        "  #variables que suelen formar parte de FOR son \"i\""
      ],
      "execution_count": 10,
      "outputs": [
        {
          "output_type": "stream",
          "text": [
            "otoño\n",
            "invierno\n",
            "verano\n",
            "primavera\n"
          ],
          "name": "stdout"
        }
      ]
    }
  ]
}