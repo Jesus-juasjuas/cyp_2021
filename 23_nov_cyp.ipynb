{
  "nbformat": 4,
  "nbformat_minor": 0,
  "metadata": {
    "colab": {
      "name": "23_nov_cyp.ipynb",
      "provenance": [],
      "authorship_tag": "ABX9TyM0m3PDWGYjlzIeC249TnjY",
      "include_colab_link": true
    },
    "kernelspec": {
      "name": "python3",
      "display_name": "Python 3"
    }
  },
  "cells": [
    {
      "cell_type": "markdown",
      "metadata": {
        "id": "view-in-github",
        "colab_type": "text"
      },
      "source": [
        "<a href=\"https://colab.research.google.com/github/Jesus-juasjuas/cyp_2021/blob/main/23_nov_cyp.ipynb\" target=\"_parent\"><img src=\"https://colab.research.google.com/assets/colab-badge.svg\" alt=\"Open In Colab\"/></a>"
      ]
    },
    {
      "cell_type": "code",
      "metadata": {
        "colab": {
          "base_uri": "https://localhost:8080/"
        },
        "id": "IGwsxRuvguUw",
        "outputId": "051cae8c-6994-4c8a-dfdc-72219b3bb0a1"
      },
      "source": [
        "#ehemplo 1.1\n",
        "\n",
        "PREPO = 0\n",
        "PAGO = 0\n",
        "CAMBIO = 0\n",
        "\n",
        "PREPO = float(input(\"prepo:\"))\n",
        "PAGO = float(input(\"pago:\"))\n",
        "CAMBIO = float((PAGO - PREPO))\n",
        "print(CAMBIO)\n"
      ],
      "execution_count": 59,
      "outputs": [
        {
          "output_type": "stream",
          "text": [
            "prepo:86.25\n",
            "pago:100\n",
            "13.75\n"
          ],
          "name": "stdout"
        }
      ]
    },
    {
      "cell_type": "code",
      "metadata": {
        "colab": {
          "base_uri": "https://localhost:8080/"
        },
        "id": "RyLXdsSQn1eR",
        "outputId": "a1c6791f-4544-4321-f1c7-64b3b9945d2a"
      },
      "source": [
        "#ejemplo 1.2\n",
        "\n",
        "ALTURA = 0\n",
        "BASE = 0\n",
        "SUP = 0\n",
        "\n",
        "ALTURA = float(input(\"altura:\"))\n",
        "BASE = float(input(\"base:\"))\n",
        "SUP = float((BASE * ALTURA) /2)\n",
        "print(SUP)"
      ],
      "execution_count": 57,
      "outputs": [
        {
          "output_type": "stream",
          "text": [
            "altura:7.20\n",
            "base:8.50\n",
            "30.6\n"
          ],
          "name": "stdout"
        }
      ]
    },
    {
      "cell_type": "code",
      "metadata": {
        "colab": {
          "base_uri": "https://localhost:8080/"
        },
        "id": "rKwT7ldIrsCJ",
        "outputId": "e8f3f186-046d-4a1d-b686-4efa6f9a684c"
      },
      "source": [
        "#ejemplo 1.3\n",
        "\n",
        "PESO = 0\n",
        "LONG = 0\n",
        "PESOK = 0\n",
        "LONGM = 0\n",
        "\n",
        "NOM= input(\"Como se llama el dinosaurio:\")\n",
        "LONG = float(input(\"Altura en pies:\"))\n",
        "PESO = float(input(\"Peso en toneladas:\"))\n",
        "PESOK = float(PESO * 1000)\n",
        "LONGM = float(LONG * 0.3047)\n",
        "\n",
        "print(f\"su nombre es {NOM}\")\n",
        "print(f\"su peso en kilogramos es {PESOK}\")\n",
        "print(f\"su longitud en metros es {LONGM}\")"
      ],
      "execution_count": 68,
      "outputs": [
        {
          "output_type": "stream",
          "text": [
            "Como se llama el dinosaurio:ninosaurio\n",
            "Altura en pies:90\n",
            "Peso en toneladas:15\n",
            "su nombre es ninosaurio\n",
            "su peso en kilogramos es 15000.0\n",
            "su longitud en metros es 27.423000000000002\n"
          ],
          "name": "stdout"
        }
      ]
    },
    {
      "cell_type": "code",
      "metadata": {
        "colab": {
          "base_uri": "https://localhost:8080/"
        },
        "id": "kOzbnzJEwYB4",
        "outputId": "8161463f-9abf-4a49-a7b8-7a60335254da"
      },
      "source": [
        "#ejemplo 1.4\n",
        "\n",
        "GAL = 0\n",
        "LIT=0\n",
        "TOTAL=0\n",
        "GAL = float(input(\"galones vendidos\"))\n",
        "LIT=float(GAL*3.785)\n",
        "TOTAL=float(LIT*8.20)\n",
        "print(f\"el total es {TOTAL}\")"
      ],
      "execution_count": 66,
      "outputs": [
        {
          "output_type": "stream",
          "text": [
            "galones vendidos10.38\n",
            "el total es 322.16406\n"
          ],
          "name": "stdout"
        }
      ]
    },
    {
      "cell_type": "code",
      "metadata": {
        "colab": {
          "base_uri": "https://localhost:8080/"
        },
        "id": "ghM2xs4o42hX",
        "outputId": "869cc316-f99d-4620-cec2-343f898b38d6"
      },
      "source": [
        "#ejemplo 1.5\n",
        "\n",
        "RAD=0\n",
        "ALT=0\n",
        "VOL=0\n",
        "ARE=0\n",
        "RAD=float(input(\"introducir el radio:\"))\n",
        "ALT=float(input(\"introducir la altura\"))\n",
        "VOL= float(3.141592*(RAD**2)*ALT)\n",
        "ARE=float(2*3.141592*RAD*ALT)\n",
        "print(f\"su volumen es {VOL}\")\n",
        "print(f\"su area es {ARE}\")"
      ],
      "execution_count": 72,
      "outputs": [
        {
          "output_type": "stream",
          "text": [
            "introducir el radio:17.30\n",
            "introducir la altura8.45\n",
            "su volumen es 7945.089382646326\n",
            "su area es 918.5074430805\n"
          ],
          "name": "stdout"
        }
      ]
    },
    {
      "cell_type": "code",
      "metadata": {
        "colab": {
          "base_uri": "https://localhost:8080/"
        },
        "id": "93h1qZaw--ZG",
        "outputId": "6638ecda-b9e9-4f8e-d2e0-798b5c8266da"
      },
      "source": [
        "#ejemplo 1.6\n",
        "\n",
        "DIAS = 0\n",
        "DIAS = int(input(\"dias:\"))\n",
        "SEG = int(DIAS*24*60*60)\n",
        "print(f\"los segundos en esos dias son:{SEG}\")\n"
      ],
      "execution_count": 76,
      "outputs": [
        {
          "output_type": "stream",
          "text": [
            "dias:15\n",
            "los segundos en esos dias son:1296000\n"
          ],
          "name": "stdout"
        }
      ]
    }
  ]
}