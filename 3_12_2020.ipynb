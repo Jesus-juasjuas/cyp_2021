{
  "nbformat": 4,
  "nbformat_minor": 0,
  "metadata": {
    "colab": {
      "name": "3_12_2020.ipynb",
      "provenance": [],
      "authorship_tag": "ABX9TyNZ85dOMDwXUd6kwZZ5VZ7w",
      "include_colab_link": true
    },
    "kernelspec": {
      "name": "python3",
      "display_name": "Python 3"
    }
  },
  "cells": [
    {
      "cell_type": "markdown",
      "metadata": {
        "id": "view-in-github",
        "colab_type": "text"
      },
      "source": [
        "<a href=\"https://colab.research.google.com/github/Jesus-juasjuas/cyp_2021/blob/main/3_12_2020.ipynb\" target=\"_parent\"><img src=\"https://colab.research.google.com/assets/colab-badge.svg\" alt=\"Open In Colab\"/></a>"
      ]
    },
    {
      "cell_type": "code",
      "metadata": {
        "colab": {
          "base_uri": "https://localhost:8080/"
        },
        "id": "PgGhOF7emw6g",
        "outputId": "4c06a730-fc6a-47d2-a008-6d5d4c90d583"
      },
      "source": [
        "#Ejemplo 1\n",
        "for i in {1,2,3,4,5}:\n",
        "  print(f\"El elemento: {i}\")"
      ],
      "execution_count": 2,
      "outputs": [
        {
          "output_type": "stream",
          "text": [
            "El elemento: 1\n",
            "El elemento: 2\n",
            "El elemento: 3\n",
            "El elemento: 4\n",
            "El elemento: 5\n"
          ],
          "name": "stdout"
        }
      ]
    },
    {
      "cell_type": "code",
      "metadata": {
        "colab": {
          "base_uri": "https://localhost:8080/"
        },
        "id": "LYWITLO5nd_W",
        "outputId": "65bb853e-da71-48b0-c400-a746ac1afd53"
      },
      "source": [
        "coleccion={1,2,3,4,5}\n",
        "for i in coleccion:\n",
        "  print(f\"El elemento: {i}\")"
      ],
      "execution_count": 3,
      "outputs": [
        {
          "output_type": "stream",
          "text": [
            "El elemento: 1\n",
            "El elemento: 2\n",
            "El elemento: 3\n",
            "El elemento: 4\n",
            "El elemento: 5\n"
          ],
          "name": "stdout"
        }
      ]
    },
    {
      "cell_type": "code",
      "metadata": {
        "colab": {
          "base_uri": "https://localhost:8080/"
        },
        "id": "hg_cHVmunwMm",
        "outputId": "89c6ab3b-755a-46c7-a503-1a8564cc1df2"
      },
      "source": [
        "#Ejemplo 2\n",
        "coleccion={\"Mario\":20,\"mariana\":19,\"yesica\":14,\"luis\":18}\n",
        "for i in coleccion:\n",
        "  print(f\"Elemento:{i}\")"
      ],
      "execution_count": 7,
      "outputs": [
        {
          "output_type": "stream",
          "text": [
            "Elemento:Mario\n",
            "Elemento:mariana\n",
            "Elemento:yesica\n",
            "Elemento:luis\n"
          ],
          "name": "stdout"
        }
      ]
    },
    {
      "cell_type": "code",
      "metadata": {
        "id": "zGnpYkC3pA00"
      },
      "source": [
        "coleccion={\"Mario\":20,\"mariana\":19,\"yesica\":14,\"luis\":18}\n",
        "for i in coleccion:\n",
        "  print(f\"{i}->{coleccion[i]}\") "
      ],
      "execution_count": null,
      "outputs": []
    },
    {
      "cell_type": "code",
      "metadata": {
        "colab": {
          "base_uri": "https://localhost:8080/"
        },
        "id": "nZg-G-vBrd7j",
        "outputId": "0c880b33-ef17-4d59-bd1c-b9f94acc8c35"
      },
      "source": [
        "coleccion={\"Mario\":20,\"mariana\":19,\"yesica\":14,\"luis\":18}\n",
        "\n",
        "for clave, valor in coleccion.items():\n",
        "  print(f\"{clave}-> {valor}\")"
      ],
      "execution_count": 11,
      "outputs": [
        {
          "output_type": "stream",
          "text": [
            "Mario-> 20\n",
            "mariana-> 19\n",
            "yesica-> 14\n",
            "luis-> 18\n"
          ],
          "name": "stdout"
        }
      ]
    },
    {
      "cell_type": "code",
      "metadata": {
        "id": "qpis5mkCsYZ_"
      },
      "source": [
        "#Ejemplo 3\n",
        "email=False\n",
        "for i in \"ariel@unam.mx\":\n",
        "  \n",
        "  if(i==\"@\"):\n",
        "    email=True\n",
        "if email==True:\n",
        "  print(\"El email es correcto\")\n",
        "\n",
        "else:\n",
        "  print(\"El correo no es correcto\")      "
      ],
      "execution_count": null,
      "outputs": []
    },
    {
      "cell_type": "code",
      "metadata": {
        "colab": {
          "base_uri": "https://localhost:8080/"
        },
        "id": "OWpIEYK1tqHN",
        "outputId": "8f08444f-4be9-4c02-8789-4332fcd6e9f5"
      },
      "source": [
        "email=False\n",
        "miEmail= input(\"introduce tu correo:\")\n",
        "for i in \"ariel@unam.mx\":\n",
        "  \n",
        "  if(i==\"@\"):\n",
        "    email=True\n",
        "if email==True:\n",
        "  print(\"El email es correcto\")\n",
        "\n",
        "else:\n",
        "  print(\"El correo no es correcto\") "
      ],
      "execution_count": 10,
      "outputs": [
        {
          "output_type": "stream",
          "text": [
            "introduce tu correo:gdgdh@gmail.com\n",
            "El email es correcto\n"
          ],
          "name": "stdout"
        }
      ]
    },
    {
      "cell_type": "code",
      "metadata": {
        "colab": {
          "base_uri": "https://localhost:8080/"
        },
        "id": "4FBz9l2CvBON",
        "outputId": "27130e3a-17c0-475c-e190-5fffed7c1020"
      },
      "source": [
        "#for-Range\n",
        "\n",
        "for i in range (5):\n",
        "  print(\"hola\")"
      ],
      "execution_count": 16,
      "outputs": [
        {
          "output_type": "stream",
          "text": [
            "hola\n",
            "hola\n",
            "hola\n",
            "hola\n",
            "hola\n"
          ],
          "name": "stdout"
        }
      ]
    },
    {
      "cell_type": "code",
      "metadata": {
        "colab": {
          "base_uri": "https://localhost:8080/"
        },
        "id": "_bdPd2ZrwVQ_",
        "outputId": "8937555a-00e3-43a1-d847-333bb83833e7"
      },
      "source": [
        "for i in range (5):\n",
        "  print(i)"
      ],
      "execution_count": 15,
      "outputs": [
        {
          "output_type": "stream",
          "text": [
            "0\n",
            "1\n",
            "2\n",
            "3\n",
            "4\n"
          ],
          "name": "stdout"
        }
      ]
    },
    {
      "cell_type": "code",
      "metadata": {
        "colab": {
          "base_uri": "https://localhost:8080/"
        },
        "id": "v7u8JyG_wcC2",
        "outputId": "e51cd1c2-5e8b-4571-ec1a-ecc0b1ce8d15"
      },
      "source": [
        "for i in range (10):\n",
        "  print(f\"valor de la variable\")"
      ],
      "execution_count": 17,
      "outputs": [
        {
          "output_type": "stream",
          "text": [
            "valor de la variable\n",
            "valor de la variable\n",
            "valor de la variable\n",
            "valor de la variable\n",
            "valor de la variable\n",
            "valor de la variable\n",
            "valor de la variable\n",
            "valor de la variable\n",
            "valor de la variable\n",
            "valor de la variable\n"
          ],
          "name": "stdout"
        }
      ]
    },
    {
      "cell_type": "code",
      "metadata": {
        "id": "lWAFhWqGyMma"
      },
      "source": [
        "#While ejemplos\n",
        "\n",
        "i=1\n",
        "while 1 <= 10:\n",
        "  print(\"ejecucion\"+str(i))\n",
        "  "
      ],
      "execution_count": null,
      "outputs": []
    },
    {
      "cell_type": "code",
      "metadata": {
        "colab": {
          "base_uri": "https://localhost:8080/"
        },
        "id": "TXN8IlyZ0D7R",
        "outputId": "b057466c-b616-4862-d945-831ed705be26"
      },
      "source": [
        "i=1\n",
        "while i <=10:\n",
        "  print(\"ejecucion\"+str(i))\n",
        "  i=i+1 #contador, es decir,"
      ],
      "execution_count": 23,
      "outputs": [
        {
          "output_type": "stream",
          "text": [
            "ejecucion1\n",
            "ejecucion2\n",
            "ejecucion3\n",
            "ejecucion4\n",
            "ejecucion5\n",
            "ejecucion6\n",
            "ejecucion7\n",
            "ejecucion8\n",
            "ejecucion9\n",
            "ejecucion10\n"
          ],
          "name": "stdout"
        }
      ]
    },
    {
      "cell_type": "code",
      "metadata": {
        "colab": {
          "base_uri": "https://localhost:8080/"
        },
        "id": "Gwr8pVrI0hO3",
        "outputId": "0b2c1ad1-6e87-4904-ed2b-2f9f25e91f92"
      },
      "source": [
        "edad=int(input(\"Introduce tu edad:\"))\n",
        "while edad < 0:\n",
        "  print(\"has introducido una edad negativa, Intentalo de nuevo\")\n",
        "  edad=int(input(\"introduce tu edad\"))\n",
        "print(\"gracias por participar.Puede pasar\")  \n",
        "print(\"edad del aspirante:\"+str (edad))"
      ],
      "execution_count": 26,
      "outputs": [
        {
          "output_type": "stream",
          "text": [
            "Introduce tu edad:-8\n",
            "has introducido una edad negativa, Intentalo de nuevo\n",
            "introduce tu edad-99\n",
            "has introducido una edad negativa, Intentalo de nuevo\n",
            "introduce tu edad456\n",
            "gracias por participar.Puede pasar\n",
            "edad del aspirante:456\n"
          ],
          "name": "stdout"
        }
      ]
    },
    {
      "cell_type": "code",
      "metadata": {
        "colab": {
          "base_uri": "https://localhost:8080/"
        },
        "id": "ZiKczR3k143V",
        "outputId": "34a54396-3c11-48b4-bc97-864a2dc0c1b1"
      },
      "source": [
        "edad=int(input(\"Introduce tu edad:\"))\n",
        "while edad < 10 or edad > 100:\n",
        "  print(\"has introducido una edad negativa, Intentalo de nuevo\")\n",
        "  edad=int(input(\"introduce tu edad\"))\n",
        "print(\"gracias por participar.Puede pasar\")  \n",
        "print(\"edad del aspirante:\"+str (edad))"
      ],
      "execution_count": null,
      "outputs": [
        {
          "output_type": "stream",
          "text": [
            "Introduce tu edad:150\n",
            "has introducido una edad negativa, Intentalo de nuevo\n"
          ],
          "name": "stdout"
        }
      ]
    }
  ]
}