{
  "nbformat": 4,
  "nbformat_minor": 0,
  "metadata": {
    "colab": {
      "name": "14_enero_cyp.ipynb",
      "provenance": [],
      "authorship_tag": "ABX9TyNHGP52TK+akQhsTGWRYpe6",
      "include_colab_link": true
    },
    "kernelspec": {
      "name": "python3",
      "display_name": "Python 3"
    }
  },
  "cells": [
    {
      "cell_type": "markdown",
      "metadata": {
        "id": "view-in-github",
        "colab_type": "text"
      },
      "source": [
        "<a href=\"https://colab.research.google.com/github/Jesus-juasjuas/cyp_2021/blob/main/14_enero_cyp.ipynb\" target=\"_parent\"><img src=\"https://colab.research.google.com/assets/colab-badge.svg\" alt=\"Open In Colab\"/></a>"
      ]
    },
    {
      "cell_type": "markdown",
      "metadata": {
        "id": "fY1h4dfD5t76"
      },
      "source": [
        "Palabras reservadas en phyton 3\r\n",
        "False,None,True,and,as,assert,break,class,continue,def,del,elif,else,except,finally,for,from,global,if,import,in,is,lambda,nonlocal,not,or,pass,raise,return,try,while,with,yield,\r\n"
      ]
    },
    {
      "cell_type": "code",
      "metadata": {
        "colab": {
          "base_uri": "https://localhost:8080/"
        },
        "id": "KyVW0SkZ5GD0",
        "outputId": "cc262dc1-0ad9-4f85-cafc-b5bf1476efdb"
      },
      "source": [
        "import keyword\r\n",
        "pr=keyword.kwlist\r\n",
        "print( len(pr))\r\n",
        "for palabra in pr:\r\n",
        "  print(palabra , end=\",\")"
      ],
      "execution_count": 4,
      "outputs": [
        {
          "output_type": "stream",
          "text": [
            "33\n",
            "False,None,True,and,as,assert,break,class,continue,def,del,elif,else,except,finally,for,from,global,if,import,in,is,lambda,nonlocal,not,or,pass,raise,return,try,while,with,yield,"
          ],
          "name": "stdout"
        }
      ]
    },
    {
      "cell_type": "markdown",
      "metadata": {
        "id": "rSIuEJG_60Ga"
      },
      "source": [
        "##variable\r\n",
        "es un espacion de memoria de la computadora para almacenar valores que cambian a lo largo de la ejecucion del programa. Este espacio de memoria esta referenciado por un identificador, el cual tiene ciertas reglas de nombrado.\r\n",
        "- no debe ser igual a alguna de las palabras reservadas \r\n",
        "- evitar nombres de variables largos \r\n",
        "- no puede iniciar con un numero\r\n",
        "- puede iniciar con _\r\n",
        "- evitar muy cortos, ejemplo: x,y,z\r\n",
        "- usar notacion snake_case"
      ]
    },
    {
      "cell_type": "code",
      "metadata": {
        "id": "-S-aZxiR7zAK"
      },
      "source": [
        "_2edad=12\r\n",
        "print(_2edad)\r\n",
        "\"\"\"\r\n",
        "no se puede usar una palabrareservada como identificador de variable:\r\n",
        "\r\n",
        "for=12\r\n",
        "print(for)\r\n",
        "\"\"\"\r\n",
        "_2edaddias_de_la_semana=7\r\n",
        "print(dias_de_la_semana)\r\n",
        "\r\n",
        "diasdelasemana=7\r\n",
        "print(diasdelasemana)\r\n",
        "\r\n",
        "#lower camel case\r\n",
        "diasdelasemana=7\r\n",
        "\r\n",
        "#upper camel case\r\n",
        "smeanasanta=23"
      ],
      "execution_count": null,
      "outputs": []
    },
    {
      "cell_type": "code",
      "metadata": {
        "id": "f6uSG1L88nAr"
      },
      "source": [
        "\"\"\"\r\n",
        "la notacion snake case consta de formar el identificador de variable separando las palabras del mismo con un guion bajo\r\n",
        "\r\n",
        "se recomineda que los identificadores se escriban en minuscula para las variables y en mayuscula para las constantes\r\n",
        "\r\n",
        "es decir, si tenemos una variable para los dias de la semana, se escribiria a\r\n",
        "dias_de_la_semana=7\r\n",
        "dias_del_mes=31\r\n",
        "limite_maximo=100\r\n",
        "\r\n",
        "\"\"\""
      ],
      "execution_count": null,
      "outputs": []
    },
    {
      "cell_type": "markdown",
      "metadata": {
        "id": "JdJzHebv92qp"
      },
      "source": [
        ""
      ]
    },
    {
      "cell_type": "markdown",
      "metadata": {
        "id": "LvsONdQZ950U"
      },
      "source": [
        "# tipos de datos\r\n",
        "- numericos\r\n",
        "  - int 4 bytes(1,2,2345,etc.)\r\n",
        "  - float 4 bytes(1.1,1.4,3.1416,etc) \r\n",
        "  -long 8 bytes (1,2,2345, etc)\r\n",
        "  -complex 3+2j (raices negativas)\r\n",
        "- Boolean= true o false \r\n",
        "-string cadenas de caracteres (\"cad\", 'cad' o \"\"cad\"\")\r\n",
        "-listas ( [1,2,3,4],[a,b,1,2,3])\r\n",
        "-tuplas (  (edad,23),(3,4))\r\n",
        "-conjuntos\r\n",
        "-direcciones ( {\"nombre\",\"juan\"} )\r\n"
      ]
    },
    {
      "cell_type": "markdown",
      "metadata": {
        "id": "nez_M5kSEIzh"
      },
      "source": [
        "#tipo de dato string\r\n",
        "\r\n",
        "Este tipo de dato permite almacenar cadenas de caracteres , como por ejemplo:\r\n",
        "```\r\n",
        "\r\n",
        "nombre=jesus\r\n",
        "lugar_nacimiento=\"Mexico D.F., Tacuba\"\r\n",
        "frase_favorita=\"\"\" \r\n",
        "El conocimento\r\n",
        "me presigue, \r\n",
        "pero...\r\n",
        "yo soy mas rapido!!!\r\n",
        ":)\r\n",
        "```\r\n",
        "\r\n"
      ]
    },
    {
      "cell_type": "code",
      "metadata": {
        "id": "DeYbfVgGFKpL"
      },
      "source": [
        "nombre='Jesus'\r\n",
        "lugar_nacimiento=\"Mexico D.F., Tacuba\"\r\n",
        "frase_favorita=\"\"\" \r\n",
        "El conocimento\r\n",
        "me presigue, \r\n",
        "pero...\r\n",
        "yo soy mas rapido!!!\r\n",
        ":)\r\n",
        "\"\"\""
      ],
      "execution_count": 7,
      "outputs": []
    },
    {
      "cell_type": "markdown",
      "metadata": {
        "id": "BnVuYqrtFgIH"
      },
      "source": [
        "#string como arreglo\r\n",
        "Un string en python es almacenado como el tipo de dato (estructura de datos) arreglo.\r\n",
        "\r\n",
        "por ejemplo la declaracion:\r\n",
        "\r\n",
        "nombre='jesus'\r\n",
        "\r\n"
      ]
    },
    {
      "cell_type": "code",
      "metadata": {
        "colab": {
          "base_uri": "https://localhost:8080/"
        },
        "id": "x9YAWOlDGLDK",
        "outputId": "0915e917-510f-499a-95b8-1663e345c190"
      },
      "source": [
        "nombre= 'jesus'\r\n",
        "print(nombre)\r\n",
        "print(nombre[0])\r\n",
        "print(nombre[3])"
      ],
      "execution_count": 9,
      "outputs": [
        {
          "output_type": "stream",
          "text": [
            "jesus\n",
            "j\n",
            "u\n"
          ],
          "name": "stdout"
        }
      ]
    },
    {
      "cell_type": "markdown",
      "metadata": {
        "id": "h0FQc3QkHOuz"
      },
      "source": [
        "#iterar sobre un string\r\n",
        "\r\n",
        "Se puede iterar sobre un string con un for en forma:\r\n",
        "```\r\n",
        "for letra in range( len(nombre) ):\r\n",
        "print(letra)\r\n"
      ]
    },
    {
      "cell_type": "code",
      "metadata": {
        "id": "MzTmU8YLIfJ9"
      },
      "source": [
        "for indice in range(len(nombre)):\r\n",
        "  print(indice, end=\" \")\r\n",
        "  print(nombre[indice])\r\n"
      ],
      "execution_count": null,
      "outputs": []
    }
  ]
}