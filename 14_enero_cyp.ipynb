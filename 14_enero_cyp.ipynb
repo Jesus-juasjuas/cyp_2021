{
  "nbformat": 4,
  "nbformat_minor": 0,
  "metadata": {
    "colab": {
      "name": "14_enero_cyp.ipynb",
      "provenance": [],
      "authorship_tag": "ABX9TyM1rZIm/t4+tqECyDRPSLWB",
      "include_colab_link": true
    },
    "kernelspec": {
      "name": "python3",
      "display_name": "Python 3"
    }
  },
  "cells": [
    {
      "cell_type": "markdown",
      "metadata": {
        "id": "view-in-github",
        "colab_type": "text"
      },
      "source": [
        "<a href=\"https://colab.research.google.com/github/Jesus-juasjuas/cyp_2021/blob/main/14_enero_cyp.ipynb\" target=\"_parent\"><img src=\"https://colab.research.google.com/assets/colab-badge.svg\" alt=\"Open In Colab\"/></a>"
      ]
    },
    {
      "cell_type": "markdown",
      "metadata": {
        "id": "fY1h4dfD5t76"
      },
      "source": [
        "Palabras reservadas en phyton 3\r\n",
        "False,None,True,and,as,assert,break,class,continue,def,del,elif,else,except,finally,for,from,global,if,import,in,is,lambda,nonlocal,not,or,pass,raise,return,try,while,with,yield,\r\n"
      ]
    },
    {
      "cell_type": "code",
      "metadata": {
        "colab": {
          "base_uri": "https://localhost:8080/"
        },
        "id": "KyVW0SkZ5GD0",
        "outputId": "cc262dc1-0ad9-4f85-cafc-b5bf1476efdb"
      },
      "source": [
        "import keyword\r\n",
        "pr=keyword.kwlist\r\n",
        "print( len(pr))\r\n",
        "for palabra in pr:\r\n",
        "  print(palabra , end=\",\")"
      ],
      "execution_count": 4,
      "outputs": [
        {
          "output_type": "stream",
          "text": [
            "33\n",
            "False,None,True,and,as,assert,break,class,continue,def,del,elif,else,except,finally,for,from,global,if,import,in,is,lambda,nonlocal,not,or,pass,raise,return,try,while,with,yield,"
          ],
          "name": "stdout"
        }
      ]
    },
    {
      "cell_type": "markdown",
      "metadata": {
        "id": "rSIuEJG_60Ga"
      },
      "source": [
        "##variable\r\n",
        "es un espacion de memoria de la computadora para almacenar valores que cambian a lo largo de la ejecucion del programa. Este espacio de memoria esta referenciado por un identificador, el cual tiene ciertas reglas de nombrado.\r\n",
        "- no debe ser igual a alguna de las palabras reservadas \r\n",
        "- evitar nombres de variables largos \r\n",
        "- no puede iniciar con un numero\r\n",
        "- puede iniciar con _\r\n",
        "- evitar muy cortos, ejemplo: x,y,z\r\n",
        "- usar notacion snake_case"
      ]
    },
    {
      "cell_type": "code",
      "metadata": {
        "id": "-S-aZxiR7zAK"
      },
      "source": [
        "_2edad=12\r\n",
        "print(_2edad)\r\n",
        "\"\"\"\r\n",
        "no se puede usar una palabrareservada como identificador de variable:\r\n",
        "\r\n",
        "for=12\r\n",
        "print(for)\r\n",
        "\"\"\"\r\n",
        "_2edaddias_de_la_semana=7\r\n",
        "print(dias_de_la_semana)\r\n",
        "\r\n",
        "diasdelasemana=7\r\n",
        "print(diasdelasemana)\r\n",
        "\r\n",
        "#lower camel case\r\n",
        "diasdelasemana=7\r\n",
        "\r\n",
        "#upper camel case\r\n",
        "smeanasanta=23"
      ],
      "execution_count": null,
      "outputs": []
    },
    {
      "cell_type": "code",
      "metadata": {
        "id": "f6uSG1L88nAr"
      },
      "source": [
        "\"\"\"\r\n",
        "la notacion snake case consta de formar el identificador de variable separando las palabras del mismo con un guion bajo\r\n",
        "\r\n",
        "se recomineda que los identificadores se escriban en minuscula para las variables y en mayuscula para las constantes\r\n",
        "\r\n",
        "es decir, si tenemos una variable para los dias de la semana, se escribiria a\r\n",
        "dias_de_la_semana=7\r\n",
        "dias_del_mes=31\r\n",
        "limite_maximo=100\r\n",
        "\r\n",
        "\"\"\""
      ],
      "execution_count": null,
      "outputs": []
    },
    {
      "cell_type": "markdown",
      "metadata": {
        "id": "JdJzHebv92qp"
      },
      "source": [
        ""
      ]
    },
    {
      "cell_type": "markdown",
      "metadata": {
        "id": "LvsONdQZ950U"
      },
      "source": [
        "# tipos de datos\r\n",
        "- numericos\r\n",
        "  - int 4 bytes(1,2,2345,etc.)\r\n",
        "  - float 4 bytes(1.1,1.4,3.1416,etc) \r\n",
        "  -long 8 bytes (1,2,2345, etc)\r\n",
        "  -complex 3+2j (raices negativas)\r\n",
        "- Boolean= true o false \r\n",
        "-string cadenas de caracteres (\"cad\", 'cad' o \"\"cad\"\")\r\n",
        "-listas ( [1,2,3,4],[a,b,1,2,3])\r\n",
        "-tuplas (  (edad,23),(3,4))\r\n",
        "-conjuntos\r\n",
        "-direcciones ( {\"nombre\",\"juan\"} )\r\n"
      ]
    },
    {
      "cell_type": "markdown",
      "metadata": {
        "id": "nez_M5kSEIzh"
      },
      "source": [
        "#tipo de dato string\r\n",
        "\r\n",
        "Este tipo de dato permite almacenar cadenas de caracteres , como por ejemplo:\r\n",
        "```\r\n",
        "\r\n",
        "nombre=jesus\r\n",
        "lugar_nacimiento=\"Mexico D.F., Tacuba\"\r\n",
        "frase_favorita=\"\"\" \r\n",
        "El conocimento\r\n",
        "me presigue, \r\n",
        "pero...\r\n",
        "yo soy mas rapido!!!\r\n",
        ":)\r\n",
        "```\r\n",
        "\r\n"
      ]
    },
    {
      "cell_type": "code",
      "metadata": {
        "id": "DeYbfVgGFKpL"
      },
      "source": [
        "nombre='Jesus'\r\n",
        "lugar_nacimiento=\"Mexico D.F., Tacuba\"\r\n",
        "frase_favorita=\"\"\" \r\n",
        "El conocimento\r\n",
        "me presigue, \r\n",
        "pero...\r\n",
        "yo soy mas rapido!!!\r\n",
        ":)\r\n",
        "\"\"\""
      ],
      "execution_count": 7,
      "outputs": []
    },
    {
      "cell_type": "markdown",
      "metadata": {
        "id": "BnVuYqrtFgIH"
      },
      "source": [
        "#Strings como arreglo\r\n",
        "Un string en Python es almacenado como el tipo de dato (estructura de datos) arreglo.\r\n",
        "\r\n",
        "por ejemplo la declaración:\r\n",
        "\r\n",
        " \r\n",
        "nombre= 'Jesús'\r\n",
        "El elemto 'J' es almacenado en un arreglo de posición 0.\r\n",
        "\r\n",
        "La 'e' en la 1 y así sucesivamente.\r\n",
        "\r\n",
        "Selector\r\n",
        "La notación para seleccionar un elemento del arreglo es:\r\n",
        "\r\n",
        "[ 1 ]\r\n",
        "Donde el valor interno debe ser un valor numérico entero\r\n",
        "\r\n"
      ]
    },
    {
      "cell_type": "code",
      "metadata": {
        "colab": {
          "base_uri": "https://localhost:8080/"
        },
        "id": "x9YAWOlDGLDK",
        "outputId": "0915e917-510f-499a-95b8-1663e345c190"
      },
      "source": [
        "nombre= 'jesus'\r\n",
        "print(nombre)\r\n",
        "print(nombre[0])\r\n",
        "print(nombre[3])"
      ],
      "execution_count": 9,
      "outputs": [
        {
          "output_type": "stream",
          "text": [
            "jesus\n",
            "j\n",
            "u\n"
          ],
          "name": "stdout"
        }
      ]
    },
    {
      "cell_type": "markdown",
      "metadata": {
        "id": "h0FQc3QkHOuz"
      },
      "source": [
        "#iterar sobre un string\r\n",
        "\r\n",
        "Se puede iterar sobre un string con un for en forma:\r\n",
        "```\r\n",
        "for letra in range( len(nombre) ):\r\n",
        "print(letra)\r\n"
      ]
    },
    {
      "cell_type": "code",
      "metadata": {
        "colab": {
          "base_uri": "https://localhost:8080/"
        },
        "id": "MzTmU8YLIfJ9",
        "outputId": "7860deb7-63eb-4b81-a560-90037e0e3c44"
      },
      "source": [
        "for indice in range(len(nombre)): #0,1,2,3,4,5\r\n",
        "  print(indice, end=\" \")\r\n",
        "  print(nombre[indice])\r\n"
      ],
      "execution_count": 10,
      "outputs": [
        {
          "output_type": "stream",
          "text": [
            "0 j\n",
            "1 e\n",
            "2 s\n",
            "3 u\n",
            "4 s\n"
          ],
          "name": "stdout"
        }
      ]
    },
    {
      "cell_type": "markdown",
      "metadata": {
        "id": "mRit29FvJ6ov"
      },
      "source": [
        "#funcion range(inicio,stop, incremento)\r\n",
        "El inicio es opcional y por defecto tiene el valor 0.\r\n",
        "\r\n",
        "El incremento tambien es opcional y por defecto tambien es 1"
      ]
    },
    {
      "cell_type": "code",
      "metadata": {
        "colab": {
          "base_uri": "https://localhost:8080/"
        },
        "id": "2hqkU8D1JupE",
        "outputId": "4f564c99-ad37-4965-adfa-2e86854bd568"
      },
      "source": [
        "for indice in range(1, len(nombre),1):\r\n",
        "  print(nombre[indice])\r\n",
        "\r\n",
        "\r\n"
      ],
      "execution_count": 12,
      "outputs": [
        {
          "output_type": "stream",
          "text": [
            "e\n",
            "s\n",
            "u\n",
            "s\n"
          ],
          "name": "stdout"
        }
      ]
    },
    {
      "cell_type": "code",
      "metadata": {
        "colab": {
          "base_uri": "https://localhost:8080/"
        },
        "id": "5CE9RkybLCJ4",
        "outputId": "b1e9bf6e-d3f3-4004-c034-d47259ff8aa0"
      },
      "source": [
        "for indice in range(4,-1,-1): #4,3,2,1,0\r\n",
        "  print(nombre[indice])"
      ],
      "execution_count": 13,
      "outputs": [
        {
          "output_type": "stream",
          "text": [
            "s\n",
            "u\n",
            "s\n",
            "e\n",
            "j\n"
          ],
          "name": "stdout"
        }
      ]
    },
    {
      "cell_type": "markdown",
      "metadata": {
        "id": "P_s393VML6Ng"
      },
      "source": [
        "#string e indexado negativo\r\n",
        "En python 3 se agrega una nueva caracteristica a los arreglos de cadenas de caracteres, esta consta de la capacidad de indexar de forma negativa.\r\n",
        "\r\n",
        "La logica es la siguiente.\r\n",
        "\r\n",
        "El ultimo elemento se le considera como indice (ALATARNATIVO) -1, con lo cual se podria referenciar el final de la cadena sin la necesidad de saber el tamaño de la misma.\r\n",
        "\r\n",
        "\r\n",
        "```\r\n",
        "nombre=jesus\r\n",
        "```\r\n",
        "indice normal 0 1 2 3 4\r\n",
        "\r\n",
        "\r\n",
        "              j e s u s\r\n",
        "\r\n",
        "indice alternativo -5 -4 -3 -2 -1"
      ]
    },
    {
      "cell_type": "code",
      "metadata": {
        "colab": {
          "base_uri": "https://localhost:8080/"
        },
        "id": "-UHw2TEDNcFr",
        "outputId": "7605d4fe-1a06-4f3a-c46b-224d1819810c"
      },
      "source": [
        "nombre='jesus'\r\n",
        "print(nombre[4])\r\n",
        "print(nombre[-1])\r\n",
        "print(\"\")\r\n",
        "for indice_alter in range(-1,-6,-1):\r\n",
        "  print(nombre[indice_alter])"
      ],
      "execution_count": 14,
      "outputs": [
        {
          "output_type": "stream",
          "text": [
            "s\n",
            "s\n"
          ],
          "name": "stdout"
        }
      ]
    },
    {
      "cell_type": "markdown",
      "metadata": {
        "id": "bLgYsrRvP_j3"
      },
      "source": [
        "#slicing de cadenas de caracteres\r\n",
        "Esta acaracteristica permite sacar secciones de una cadena con la siguiente sintaxis:\r\n",
        "```\r\n",
        "[inicio:stop:incremento]\r\n",
        "```\r\n",
        "donde el inicio e incremento son opcionales y tambien soportan indexado alternativo (negativos)\r\n"
      ]
    },
    {
      "cell_type": "code",
      "metadata": {
        "colab": {
          "base_uri": "https://localhost:8080/"
        },
        "id": "YlAFQ8VCQZ2b",
        "outputId": "9833311a-3229-45d1-b128-55c5c4b8a357"
      },
      "source": [
        "facultad=\"Facultad de estudios superiores aragon (La mejor)\"\r\n",
        "\r\n",
        "print(facultad)\r\n",
        "for indice in range(12,20):\r\n",
        "  print(facultad[indice], end=\"\")\r\n",
        "  #hacer esto mismo con la caracteristica slicing se logra asi:\r\n",
        "\r\n",
        "  print(\"|ncon Slicing\")\r\n",
        "  print(facultad[12:20:1])\r\n",
        "\r\n",
        "  #la palabra \"de\" con slicing\r\n",
        "  print(facultad[9:11:1])\r\n",
        "\r\n",
        "  #sacar la frace \"la mejor\" con indexado alternativo y slicing\r\n"
      ],
      "execution_count": 17,
      "outputs": [
        {
          "output_type": "stream",
          "text": [
            "Facultad de estudios superiores aragon (La mejor)\n",
            "econ Slicing\n",
            "estudios\n",
            "scon Slicing\n",
            "estudios\n",
            "tcon Slicing\n",
            "estudios\n",
            "ucon Slicing\n",
            "estudios\n",
            "dcon Slicing\n",
            "estudios\n",
            "icon Slicing\n",
            "estudios\n",
            "ocon Slicing\n",
            "estudios\n",
            "scon Slicing\n",
            "estudios\n"
          ],
          "name": "stdout"
        }
      ]
    }
  ]
}